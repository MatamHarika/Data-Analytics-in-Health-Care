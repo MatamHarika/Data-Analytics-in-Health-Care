{
 "cells": [
  {
   "cell_type": "code",
   "execution_count": 71,
   "id": "552bef50-7e10-46ac-9c4a-f71e4c69cf45",
   "metadata": {},
   "outputs": [],
   "source": [
    "import pandas as pd\n",
    "import numpy as np\n",
    "import matplotlib.pyplot as plt\n",
    "import seaborn as sns\n",
    "from Bio import SeqIO\n"
   ]
  },
  {
   "cell_type": "code",
   "execution_count": 72,
   "id": "e853ade4-9240-4875-b052-0e4e1bab4041",
   "metadata": {},
   "outputs": [],
   "source": [
    "records = []\n",
    "for record in SeqIO.parse(\"sequence.fasta\", \"fasta\"):\n",
    "    records.append(str(record.seq))"
   ]
  },
  {
   "cell_type": "code",
   "execution_count": 73,
   "id": "47bd6c71-b416-47cb-a43e-5180d6eb939e",
   "metadata": {},
   "outputs": [
    {
     "data": {
      "text/html": [
       "<div>\n",
       "<style scoped>\n",
       "    .dataframe tbody tr th:only-of-type {\n",
       "        vertical-align: middle;\n",
       "    }\n",
       "\n",
       "    .dataframe tbody tr th {\n",
       "        vertical-align: top;\n",
       "    }\n",
       "\n",
       "    .dataframe thead th {\n",
       "        text-align: right;\n",
       "    }\n",
       "</style>\n",
       "<table border=\"1\" class=\"dataframe\">\n",
       "  <thead>\n",
       "    <tr style=\"text-align: right;\">\n",
       "      <th></th>\n",
       "      <th>segment</th>\n",
       "    </tr>\n",
       "  </thead>\n",
       "  <tbody>\n",
       "    <tr>\n",
       "      <th>0</th>\n",
       "      <td>NNNNNNNNNNNNNNNNNNNNNNNNNNNNNNNNNNNNNNNNNNNNN</td>\n",
       "    </tr>\n",
       "    <tr>\n",
       "      <th>1</th>\n",
       "      <td>NNNNNNNNNNNNNNNNNNNNNNNNNNNNNNNNNNNNNNNNNNNNN</td>\n",
       "    </tr>\n",
       "    <tr>\n",
       "      <th>2</th>\n",
       "      <td>NNNNNNNNNNNNNNNNNNNNNNNNNNNNNNNNNNNNNNNNNNNNN</td>\n",
       "    </tr>\n",
       "    <tr>\n",
       "      <th>3</th>\n",
       "      <td>NNNNNNNNNNNNNNNNNNNNNNNNNNNNNNNNNNNNNNNNNNNNN</td>\n",
       "    </tr>\n",
       "    <tr>\n",
       "      <th>4</th>\n",
       "      <td>NNNNNNNNNNNNNNNNNNNNNNNNNNNNNNNNNNNNNNNNNNNNN</td>\n",
       "    </tr>\n",
       "  </tbody>\n",
       "</table>\n",
       "</div>"
      ],
      "text/plain": [
       "                                         segment\n",
       "0  NNNNNNNNNNNNNNNNNNNNNNNNNNNNNNNNNNNNNNNNNNNNN\n",
       "1  NNNNNNNNNNNNNNNNNNNNNNNNNNNNNNNNNNNNNNNNNNNNN\n",
       "2  NNNNNNNNNNNNNNNNNNNNNNNNNNNNNNNNNNNNNNNNNNNNN\n",
       "3  NNNNNNNNNNNNNNNNNNNNNNNNNNNNNNNNNNNNNNNNNNNNN\n",
       "4  NNNNNNNNNNNNNNNNNNNNNNNNNNNNNNNNNNNNNNNNNNNNN"
      ]
     },
     "execution_count": 73,
     "metadata": {},
     "output_type": "execute_result"
    }
   ],
   "source": [
    "def split_sequence(sequence,length):\n",
    "    return [sequence[i:i+length] for i in range(0, len(sequence), length)]\n",
    "sequence=records[0]\n",
    "segment_length=45\n",
    "segments=split_sequence(sequence, segment_length)\n",
    "df=pd.DataFrame(segments, columns=['segment'])\n",
    "df.head()"
   ]
  },
  {
   "cell_type": "code",
   "execution_count": 74,
   "id": "8dc4f7da-0166-4950-8df2-2a8e80fbb5fb",
   "metadata": {},
   "outputs": [
    {
     "data": {
      "text/plain": [
       "count    64.000000\n",
       "mean     44.828125\n",
       "std       1.375000\n",
       "min      34.000000\n",
       "25%      45.000000\n",
       "50%      45.000000\n",
       "75%      45.000000\n",
       "max      45.000000\n",
       "Name: Sequence_length, dtype: float64"
      ]
     },
     "execution_count": 74,
     "metadata": {},
     "output_type": "execute_result"
    }
   ],
   "source": [
    "df['Sequence_length']=df['segment'].apply(len)\n",
    "df['Sequence_length'].describe()"
   ]
  },
  {
   "cell_type": "code",
   "execution_count": 75,
   "id": "14d42acd-582c-484b-8da1-819551997306",
   "metadata": {},
   "outputs": [
    {
     "name": "stderr",
     "output_type": "stream",
     "text": [
      "c:\\users\\hp\\appdata\\local\\programs\\python\\python39\\lib\\site-packages\\sklearn\\cluster\\_kmeans.py:1416: FutureWarning: The default value of `n_init` will change from 10 to 'auto' in 1.4. Set the value of `n_init` explicitly to suppress the warning\n",
      "  super()._check_params_vs_input(X, default_n_init=10)\n",
      "c:\\users\\hp\\appdata\\local\\programs\\python\\python39\\lib\\site-packages\\sklearn\\base.py:1152: ConvergenceWarning: Number of distinct clusters (2) found smaller than n_clusters (3). Possibly due to duplicate points in X.\n",
      "  return fit_method(estimator, *args, **kwargs)\n"
     ]
    },
    {
     "data": {
      "image/png": "[encoded data removed]",
      "text/plain": [
       "<Figure size 640x480 with 1 Axes>"
      ]
     },
     "metadata": {},
     "output_type": "display_data"
    }
   ],
   "source": [
    "X=df['Sequence_length'].values.reshape(-1,1)\n",
    "from sklearn.preprocessing import StandardScaler\n",
    "from sklearn.cluster import KMeans\n",
    "scaler=StandardScaler()\n",
    "X_scaled=scaler.fit_transform(X)\n",
    "kmeans=KMeans(n_clusters=3, random_state=42)\n",
    "df['cluster']=kmeans.fit_predict(X_scaled)\n",
    "\n",
    "sns.scatterplot(data=df, x='Sequence_length', y=df.index, hue='cluster')\n",
    "plt.xlabel('Sequence length')\n",
    "plt.ylabel('Sequence Index')\n",
    "plt.title('K-Means Clustering of Genome Sequences')\n",
    "plt.show()"
   ]
  },
  {
   "cell_type": "code",
   "execution_count": 77,
   "id": "775907fe-4f7d-4473-9ee9-ff436c1c516e",
   "metadata": {
    "scrolled": true
   },
   "outputs": [
    {
     "name": "stdout",
     "output_type": "stream",
     "text": [
      "SVM accuracy: 0.46153846153846156\n",
      "Confusion Matrix: [[6 0]\n",
      " [7 0]]\n",
      "Classification_report:               precision    recall  f1-score   support\n",
      "\n",
      "           0       0.46      1.00      0.63         6\n",
      "           1       0.00      0.00      0.00         7\n",
      "\n",
      "    accuracy                           0.46        13\n",
      "   macro avg       0.23      0.50      0.32        13\n",
      "weighted avg       0.21      0.46      0.29        13\n",
      "\n"
     ]
    },
    {
     "name": "stderr",
     "output_type": "stream",
     "text": [
      "c:\\users\\hp\\appdata\\local\\programs\\python\\python39\\lib\\site-packages\\sklearn\\metrics\\_classification.py:1471: UndefinedMetricWarning: Precision and F-score are ill-defined and being set to 0.0 in labels with no predicted samples. Use `zero_division` parameter to control this behavior.\n",
      "  _warn_prf(average, modifier, msg_start, len(result))\n",
      "c:\\users\\hp\\appdata\\local\\programs\\python\\python39\\lib\\site-packages\\sklearn\\metrics\\_classification.py:1471: UndefinedMetricWarning: Precision and F-score are ill-defined and being set to 0.0 in labels with no predicted samples. Use `zero_division` parameter to control this behavior.\n",
      "  _warn_prf(average, modifier, msg_start, len(result))\n",
      "c:\\users\\hp\\appdata\\local\\programs\\python\\python39\\lib\\site-packages\\sklearn\\metrics\\_classification.py:1471: UndefinedMetricWarning: Precision and F-score are ill-defined and being set to 0.0 in labels with no predicted samples. Use `zero_division` parameter to control this behavior.\n",
      "  _warn_prf(average, modifier, msg_start, len(result))\n"
     ]
    }
   ],
   "source": [
    "from sklearn.model_selection import train_test_split\n",
    "from sklearn.svm import SVC\n",
    "from sklearn.metrics import accuracy_score, classification_report, confusion_matrix\n",
    "df['label']=np.random.randint(0,2,df.shape[0])\n",
    "X=df['Sequence_length'].values.reshape(-1,1)\n",
    "y=df['label']\n",
    "X_train,X_test,y_train,y_test=train_test_split(X,y,test_size=0.2,random_state=42)\n",
    "svm=SVC(kernel='linear',C=0.02)\n",
    "svm.fit(X_train,y_train)\n",
    "y_pred=svm.predict(X_test)\n",
    "print(\"SVM accuracy:\",accuracy_score(y_test,y_pred))\n",
    "print(\"Confusion Matrix:\",confusion_matrix(y_test,y_pred))\n",
    "print(\"Classification_report:\",classification_report(y_test,y_pred))"
   ]
  },
  {
   "cell_type": "code",
   "execution_count": 78,
   "id": "9a3439f3-fd68-49fe-9197-4404ab43c220",
   "metadata": {},
   "outputs": [],
   "source": [
    "from tensorflow.keras.preprocessing.text import Tokenizer\n",
    "from tensorflow.keras.models import Sequential\n",
    "from tensorflow.keras.layers import Dense, LSTM, Embedding\n",
    "from tensorflow.keras.preprocessing.sequence import pad_sequences"
   ]
  },
  {
   "cell_type": "code",
   "execution_count": null,
   "id": "039eaa8f-d1c7-45d8-80b3-cf12e6a1026c",
   "metadata": {},
   "outputs": [
    {
     "name": "stdout",
     "output_type": "stream",
     "text": [
      "Epoch 1/10\n",
      "2/2 [==============================] - ETA: 0s - loss: 0.6931 - accuracy: 0.4750"
     ]
    }
   ],
   "source": [
    "tokenizer=Tokenizer(char_level=True)\n",
    "tokenizer.fit_on_texts(df['segment'])\n",
    "\n",
    "X_seq=tokenizer.texts_to_sequences(df['segment'])\n",
    "max_length=100\n",
    "X_padded=pad_sequences(X_seq,maxlen=max_length)\n",
    "X_train,X_test,y_train,y_test=train_test_split(X_padded, y, test_size=0.2, random_state=42)\n",
    "\n",
    "model=Sequential([\n",
    "    Embedding(input_dim=len(tokenizer.word_index)+1, output_dim=64, input_length=max_length),\n",
    "    LSTM(100, activation='relu'),\n",
    "    Dense(1, activation='sigmoid')\n",
    "])\n",
    "\n",
    "model.compile(optimizer='adam', loss='binary_crossentropy', metrics=['accuracy'])\n",
    "\n",
    "history=model.fit(X_train,y_train, epochs=10, batch_size=32, validation_split=0.2, verbose=1)\n",
    "loss,accuracy=model.evaluate(X_test, y_test)\n",
    "plt.plot(history.history['accuracy'], label='train')\n",
    "plt.plot(history.history['val_accuracy'], label='val')\n",
    "plt.xlabel('Epochs')\n",
    "plt.ylabel('Accuracy')\n",
    "plt.legend()\n",
    "plt.show()"
   ]
  },
  {
   "cell_type": "code",
   "execution_count": null,
   "id": "c99905b6-791a-4eea-b770-8fa72f872d23",
   "metadata": {},
   "outputs": [],
   "source": []
  }
 ],
 "metadata": {
  "kernelspec": {
   "display_name": "Python 3 (ipykernel)",
   "language": "python",
   "name": "python3"
  },
  "language_info": {
   "codemirror_mode": {
    "name": "ipython",
    "version": 3
   },
   "file_extension": ".py",
   "mimetype": "text/x-python",
   "name": "python",
   "nbconvert_exporter": "python",
   "pygments_lexer": "ipython3",
   "version": "3.9.0"
  }
 },
 "nbformat": 4,
 "nbformat_minor": 5
}
