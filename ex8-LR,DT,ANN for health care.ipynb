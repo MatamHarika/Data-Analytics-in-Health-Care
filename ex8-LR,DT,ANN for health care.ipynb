{
 "cells": [
  {
   "cell_type": "code",
   "execution_count": 1,
   "id": "47b1e9f5-221a-4043-8497-094044e1d89d",
   "metadata": {},
   "outputs": [],
   "source": [
    "import pandas as pd\n",
    "import numpy as np\n",
    "import matplotlib.pyplot as plt"
   ]
  },
  {
   "cell_type": "code",
   "execution_count": 2,
   "id": "15a6c645-1dbf-4f15-89ff-c42a6e71f258",
   "metadata": {},
   "outputs": [
    {
     "data": {
      "text/html": [
       "<div>\n",
       "<style scoped>\n",
       "    .dataframe tbody tr th:only-of-type {\n",
       "        vertical-align: middle;\n",
       "    }\n",
       "\n",
       "    .dataframe tbody tr th {\n",
       "        vertical-align: top;\n",
       "    }\n",
       "\n",
       "    .dataframe thead th {\n",
       "        text-align: right;\n",
       "    }\n",
       "</style>\n",
       "<table border=\"1\" class=\"dataframe\">\n",
       "  <thead>\n",
       "    <tr style=\"text-align: right;\">\n",
       "      <th></th>\n",
       "      <th>Pregnancies</th>\n",
       "      <th>Glucose</th>\n",
       "      <th>BloodPressure</th>\n",
       "      <th>SkinThickness</th>\n",
       "      <th>Insulin</th>\n",
       "      <th>BMI</th>\n",
       "      <th>DiabetesPedigreeFunction</th>\n",
       "      <th>Age</th>\n",
       "      <th>Outcome</th>\n",
       "    </tr>\n",
       "  </thead>\n",
       "  <tbody>\n",
       "    <tr>\n",
       "      <th>0</th>\n",
       "      <td>6</td>\n",
       "      <td>148</td>\n",
       "      <td>72</td>\n",
       "      <td>35</td>\n",
       "      <td>0</td>\n",
       "      <td>33.6</td>\n",
       "      <td>0.627</td>\n",
       "      <td>50</td>\n",
       "      <td>1</td>\n",
       "    </tr>\n",
       "    <tr>\n",
       "      <th>1</th>\n",
       "      <td>1</td>\n",
       "      <td>85</td>\n",
       "      <td>66</td>\n",
       "      <td>29</td>\n",
       "      <td>0</td>\n",
       "      <td>26.6</td>\n",
       "      <td>0.351</td>\n",
       "      <td>31</td>\n",
       "      <td>0</td>\n",
       "    </tr>\n",
       "    <tr>\n",
       "      <th>2</th>\n",
       "      <td>8</td>\n",
       "      <td>183</td>\n",
       "      <td>64</td>\n",
       "      <td>0</td>\n",
       "      <td>0</td>\n",
       "      <td>23.3</td>\n",
       "      <td>0.672</td>\n",
       "      <td>32</td>\n",
       "      <td>1</td>\n",
       "    </tr>\n",
       "    <tr>\n",
       "      <th>3</th>\n",
       "      <td>1</td>\n",
       "      <td>89</td>\n",
       "      <td>66</td>\n",
       "      <td>23</td>\n",
       "      <td>94</td>\n",
       "      <td>28.1</td>\n",
       "      <td>0.167</td>\n",
       "      <td>21</td>\n",
       "      <td>0</td>\n",
       "    </tr>\n",
       "    <tr>\n",
       "      <th>4</th>\n",
       "      <td>0</td>\n",
       "      <td>137</td>\n",
       "      <td>40</td>\n",
       "      <td>35</td>\n",
       "      <td>168</td>\n",
       "      <td>43.1</td>\n",
       "      <td>2.288</td>\n",
       "      <td>33</td>\n",
       "      <td>1</td>\n",
       "    </tr>\n",
       "  </tbody>\n",
       "</table>\n",
       "</div>"
      ],
      "text/plain": [
       "   Pregnancies  Glucose  BloodPressure  SkinThickness  Insulin   BMI  \\\n",
       "0            6      148             72             35        0  33.6   \n",
       "1            1       85             66             29        0  26.6   \n",
       "2            8      183             64              0        0  23.3   \n",
       "3            1       89             66             23       94  28.1   \n",
       "4            0      137             40             35      168  43.1   \n",
       "\n",
       "   DiabetesPedigreeFunction  Age  Outcome  \n",
       "0                     0.627   50        1  \n",
       "1                     0.351   31        0  \n",
       "2                     0.672   32        1  \n",
       "3                     0.167   21        0  \n",
       "4                     2.288   33        1  "
      ]
     },
     "execution_count": 2,
     "metadata": {},
     "output_type": "execute_result"
    }
   ],
   "source": [
    "df=pd.read_csv(\"Downloads/diabetes.csv\")\n",
    "df.head()"
   ]
  },
  {
   "cell_type": "code",
   "execution_count": 4,
   "id": "cb7a02c7-ef8b-49aa-8ff4-41c4bc3bf7b6",
   "metadata": {},
   "outputs": [],
   "source": [
    "X=df.drop('Outcome', axis=1)\n",
    "y=df['Outcome']\n",
    "from sklearn.model_selection import train_test_split\n",
    "X_train,X_test, y_train, y_test=train_test_split(X,y,test_size=0.2,random_state=42)\n",
    "from sklearn.preprocessing import StandardScaler\n",
    "sc=StandardScaler()\n",
    "X_train=sc.fit_transform(X_train)\n",
    "X_test=sc.transform(X_test)\n"
   ]
  },
  {
   "cell_type": "code",
   "execution_count": 5,
   "id": "7968bf3f-f031-490a-8d1f-6323d0671755",
   "metadata": {},
   "outputs": [
    {
     "name": "stdout",
     "output_type": "stream",
     "text": [
      "mean squared error: 0.171045272808501\n",
      "r2 score: 0.2550028117674177\n"
     ]
    }
   ],
   "source": [
    "from sklearn.linear_model import LinearRegression\n",
    "model=LinearRegression()\n",
    "model.fit(X_train, y_train)\n",
    "from sklearn.metrics import mean_squared_error, r2_score\n",
    "y_pred=model.predict(X_test)\n",
    "print(\"mean squared error:\",mean_squared_error(y_test,y_pred))\n",
    "print(\"r2 score:\",r2_score(y_test,y_pred))"
   ]
  },
  {
   "cell_type": "code",
   "execution_count": 6,
   "id": "ebda0af9-cffa-4c66-b06b-f130385066be",
   "metadata": {},
   "outputs": [
    {
     "name": "stdout",
     "output_type": "stream",
     "text": [
      "Decision Tree Mean Squared Error: 0.2532467532467532\n",
      "Decision Tree R2 score: -0.10303030303030325\n"
     ]
    }
   ],
   "source": [
    "from sklearn.tree import DecisionTreeRegressor\n",
    "tree_reg=DecisionTreeRegressor(random_state=42)\n",
    "tree_reg.fit(X_train,y_train)\n",
    "y_pred_tree=tree_reg.predict(X_test)\n",
    "\n",
    "print(\"Decision Tree Mean Squared Error:\", mean_squared_error(y_test,y_pred_tree))\n",
    "print(\"Decision Tree R2 score:\", r2_score(y_test,y_pred_tree))\n"
   ]
  },
  {
   "cell_type": "code",
   "execution_count": 13,
   "id": "76c30180-0cb3-435f-b376-7d9644ac115b",
   "metadata": {},
   "outputs": [
    {
     "name": "stdout",
     "output_type": "stream",
     "text": [
      "Epoch 1/10\n",
      "16/16 [==============================] - 1s 22ms/step - loss: 0.3809 - mean_squared_error: 0.3809 - val_loss: 0.4020 - val_mean_squared_error: 0.4020\n",
      "Epoch 2/10\n",
      "16/16 [==============================] - 0s 6ms/step - loss: 0.3239 - mean_squared_error: 0.3239 - val_loss: 0.3702 - val_mean_squared_error: 0.3702\n",
      "Epoch 3/10\n",
      "16/16 [==============================] - 0s 6ms/step - loss: 0.3129 - mean_squared_error: 0.3129 - val_loss: 0.3594 - val_mean_squared_error: 0.3594\n",
      "Epoch 4/10\n",
      "16/16 [==============================] - 0s 5ms/step - loss: 0.3047 - mean_squared_error: 0.3047 - val_loss: 0.3495 - val_mean_squared_error: 0.3495\n",
      "Epoch 5/10\n",
      "16/16 [==============================] - 0s 5ms/step - loss: 0.2968 - mean_squared_error: 0.2968 - val_loss: 0.3408 - val_mean_squared_error: 0.3408\n",
      "Epoch 6/10\n",
      "16/16 [==============================] - 0s 6ms/step - loss: 0.2896 - mean_squared_error: 0.2896 - val_loss: 0.3324 - val_mean_squared_error: 0.3324\n",
      "Epoch 7/10\n",
      "16/16 [==============================] - 0s 6ms/step - loss: 0.2830 - mean_squared_error: 0.2830 - val_loss: 0.3248 - val_mean_squared_error: 0.3248\n",
      "Epoch 8/10\n",
      "16/16 [==============================] - 0s 5ms/step - loss: 0.2767 - mean_squared_error: 0.2767 - val_loss: 0.3179 - val_mean_squared_error: 0.3179\n",
      "Epoch 9/10\n",
      "16/16 [==============================] - 0s 6ms/step - loss: 0.2710 - mean_squared_error: 0.2710 - val_loss: 0.3116 - val_mean_squared_error: 0.3116\n",
      "Epoch 10/10\n",
      "16/16 [==============================] - 0s 6ms/step - loss: 0.2656 - mean_squared_error: 0.2656 - val_loss: 0.3062 - val_mean_squared_error: 0.3062\n",
      "5/5 [==============================] - 0s 4ms/step\n",
      "Mean squared error: 0.2786421976975792\n"
     ]
    },
    {
     "data": {
      "image/png": "[encoded data removed]",
      "text/plain": [
       "<Figure size 640x480 with 1 Axes>"
      ]
     },
     "metadata": {},
     "output_type": "display_data"
    }
   ],
   "source": [
    "from tensorflow.keras.models import Sequential\n",
    "from tensorflow.keras.layers import Dense\n",
    "ann=Sequential([\n",
    "    Dense(64, activation='relu', input_shape=(X_train.shape[1],)),\n",
    "    Dense(2, activation='relu'),\n",
    "    Dense(1)\n",
    "])\n",
    "\n",
    "ann.compile(optimizer='adam',loss='mean_squared_error',metrics=['mean_squared_error'])\n",
    "\n",
    "history=ann.fit(X_train, y_train, epochs=10, validation_split=0.2, verbose=1)\n",
    "\n",
    "y_pred_ann=ann.predict(X_test)\n",
    "\n",
    "print(\"Mean squared error:\",mean_squared_error(y_test,y_pred_ann))\n",
    "\n",
    "plt.plot(history.history['mean_squared_error'],label='train')\n",
    "plt.plot(history.history['val_mean_squared_error'],label='validation')\n",
    "plt.xlabel('Epochs')\n",
    "plt.ylabel('Mean Squared Error')\n",
    "plt.legend()\n",
    "plt.show()"
   ]
  },
  {
   "cell_type": "code",
   "execution_count": 10,
   "id": "915028c9-aa3e-4e91-b737-95d600e8f172",
   "metadata": {},
   "outputs": [
    {
     "name": "stdout",
     "output_type": "stream",
     "text": [
      "(8,)\n"
     ]
    }
   ],
   "source": [
    "import tensorflow as tf\n",
    "input_shape=(X_train.shape[1],)\n",
    "tf.print(input_shape)"
   ]
  },
  {
   "cell_type": "code",
   "execution_count": null,
   "id": "0a81e4f1-3a42-49b1-a052-ac8f7918045e",
   "metadata": {},
   "outputs": [],
   "source": []
  },
  {
   "cell_type": "code",
   "execution_count": null,
   "id": "18c791bf-25ef-46a3-a8b3-404e883296e6",
   "metadata": {},
   "outputs": [],
   "source": []
  }
 ],
 "metadata": {
  "kernelspec": {
   "display_name": "Python 3 (ipykernel)",
   "language": "python",
   "name": "python3"
  },
  "language_info": {
   "codemirror_mode": {
    "name": "ipython",
    "version": 3
   },
   "file_extension": ".py",
   "mimetype": "text/x-python",
   "name": "python",
   "nbconvert_exporter": "python",
   "pygments_lexer": "ipython3",
   "version": "3.9.0"
  }
 },
 "nbformat": 4,
 "nbformat_minor": 5
}
