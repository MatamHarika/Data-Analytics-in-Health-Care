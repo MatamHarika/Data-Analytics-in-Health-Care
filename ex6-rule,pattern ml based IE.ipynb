{
 "cells": [
  {
   "cell_type": "code",
   "execution_count": 2,
   "id": "d6600839-f95c-459a-bd24-8cf1df6c0d73",
   "metadata": {},
   "outputs": [],
   "source": [
    "clinical_data=[\n",
    "    \"Patient ID: 001, Age: 45, Diagnosis: Diabetes\",\n",
    "    \"Patient ID: 002, Age: 60, Diagnosis: Hypertension\",\n",
    "    \"Patient ID: 003, Age: 29, Diagnosis: Diabetes\",\n",
    "    \"Patient ID: 004, Age: 40, Diagnosis: Blood Pressure\",\n",
    "    \"Patient ID: 005, Age: 52, Diagnosis: Depression\",\n",
    "    \"Patient ID: 006, Age: 33, Diagnosis: Diabetes\",\n",
    "    \"Patient ID: 007, Age: 55, Diagnosis: Hypertension\",\n",
    "    \"Patinet ID: 008, Age: 47, Diagnosis: Anxiety\"\n",
    "]\n"
   ]
  },
  {
   "cell_type": "code",
   "execution_count": 26,
   "id": "b48233e7-e9bb-4d6d-ba21-b7394527a0f4",
   "metadata": {},
   "outputs": [],
   "source": [
    "def rule_based_extraction(data):\n",
    "    return [re.findall(r'Patient ID: (\\d+), Age: (\\d+), Diagnosis: ([\\w\\s]+)', record) for record in data]\n",
    "    "
   ]
  },
  {
   "cell_type": "code",
   "execution_count": 27,
   "id": "c8caec8d-3258-488c-8844-5cafe4a441e0",
   "metadata": {},
   "outputs": [],
   "source": [
    "def pattern_based_extraction(data):\n",
    "    patterns=[\"Patient ID\", \"Age\", \"Diagnosis\"]\n",
    "    extracted_data=[]\n",
    "    for record in data:\n",
    "        record_data=[]\n",
    "        for pattern in patterns:\n",
    "            match=re.search(f'{pattern}: (\\w+)', record)\n",
    "            record_data.append(match.group(1) if match else None)\n",
    "        extracted_data.append(tuple(record_data))\n",
    "    return extracted_data\n",
    "\n"
   ]
  },
  {
   "cell_type": "code",
   "execution_count": 34,
   "id": "48a8355c-f323-48be-b14f-ce8e2dcfd474",
   "metadata": {},
   "outputs": [],
   "source": [
    "from sklearn.feature_extraction.text import CountVectorizer\n",
    "from sklearn.naive_bayes import MultinomialNB\n",
    "def machine_learning_extraction(data):\n",
    "    vectorizer=CountVectorizer()\n",
    "    X=vectorizer.fit_transform(data)\n",
    "    y=[record.split(\", \")[2].split(\": \")[1] for record in data]\n",
    "    clf=MultinomialNB()\n",
    "    clf.fit(X,y)\n",
    "    predictions=clf.predict(X)\n",
    "    return list(zip([record.split(\", \")[0].split(\": \")[1] for record in data],y,predictions))\n"
   ]
  },
  {
   "cell_type": "code",
   "execution_count": 36,
   "id": "c5dc1ee8-bb87-44e5-a51f-2e27f4fc3199",
   "metadata": {},
   "outputs": [
    {
     "name": "stdout",
     "output_type": "stream",
     "text": [
      "Rule-based Extraction: [[('001', '45', 'Diabetes')], [('002', '60', 'Hypertension')], [('003', '29', 'Diabetes')], [('004', '40', 'Blood Pressure')], [('005', '52', 'Depression')], [('006', '33', 'Diabetes')], [('007', '55', 'Hypertension')], []]\n",
      "\n",
      "Pattern-based Extraction: [('001', '45', 'Diabetes'), ('002', '60', 'Hypertension'), ('003', '29', 'Diabetes'), ('004', '40', 'Blood'), ('005', '52', 'Depression'), ('006', '33', 'Diabetes'), ('007', '55', 'Hypertension'), (None, '47', 'Anxiety')]\n",
      "\n",
      "Machine Learning Extraction: [('001', 'Diabetes', 'Diabetes'), ('002', 'Hypertension', 'Hypertension'), ('003', 'Diabetes', 'Diabetes'), ('004', 'Blood Pressure', 'Blood Pressure'), ('005', 'Depression', 'Depression'), ('006', 'Diabetes', 'Diabetes'), ('007', 'Hypertension', 'Hypertension'), ('008', 'Anxiety', 'Anxiety')]\n"
     ]
    }
   ],
   "source": [
    "rule_based_result = rule_based_extraction(clinical_data)\n",
    "pattern_based_result = pattern_based_extraction(clinical_data)\n",
    "machine_learning_result = machine_learning_extraction(clinical_data)\n",
    "# Display results\n",
    "print(\"Rule-based Extraction:\", rule_based_result)\n",
    "print()\n",
    "\n",
    "print(\"Pattern-based Extraction:\", pattern_based_result)\n",
    "print()\n",
    "print(\"Machine Learning Extraction:\", machine_learning_result)"
   ]
  },
  {
   "cell_type": "code",
   "execution_count": null,
   "id": "4501521b-4910-4642-a8df-c7f3e7b4e59f",
   "metadata": {},
   "outputs": [],
   "source": []
  }
 ],
 "metadata": {
  "kernelspec": {
   "display_name": "Python 3 (ipykernel)",
   "language": "python",
   "name": "python3"
  },
  "language_info": {
   "codemirror_mode": {
    "name": "ipython",
    "version": 3
   },
   "file_extension": ".py",
   "mimetype": "text/x-python",
   "name": "python",
   "nbconvert_exporter": "python",
   "pygments_lexer": "ipython3",
   "version": "3.9.0"
  }
 },
 "nbformat": 4,
 "nbformat_minor": 5
}
